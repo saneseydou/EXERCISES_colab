{
  "nbformat": 4,
  "nbformat_minor": 0,
  "metadata": {
    "colab": {
      "provenance": [],
      "toc_visible": true,
      "authorship_tag": "ABX9TyMx+8UVptHJumyWVuHSDHIi",
      "include_colab_link": true
    },
    "kernelspec": {
      "name": "python3",
      "display_name": "Python 3"
    },
    "language_info": {
      "name": "python"
    }
  },
  "cells": [
    {
      "cell_type": "markdown",
      "metadata": {
        "id": "view-in-github",
        "colab_type": "text"
      },
      "source": [
        "<a href=\"https://colab.research.google.com/github/saneseydou/EXERCISES_colab/blob/master/Untitled0.ipynb\" target=\"_parent\"><img src=\"https://colab.research.google.com/assets/colab-badge.svg\" alt=\"Open In Colab\"/></a>"
      ]
    },
    {
      "cell_type": "code",
      "source": [
        "total_commande=0    #entier\n",
        "prix_L=0       #entier\n",
        "prix_Y=0       #entier\n",
        "prix_N=0       #entier\n",
        "\n",
        "L= input(\"quelle taille pizza vous convient (Grande, Moyenne, Petite), Please !\")\n",
        "if 'L'== 'Grande' :\n",
        "  prix_L=13\n",
        "elif 'L'== 'Moyenne':\n",
        "  prix_L=11\n",
        "elif 'L'== 'petite':\n",
        "  prix_L=7\n",
        "else : print(\"taille pizza non valide, sorry \\n la taille de votre pizza (Grande, Moyenne, Petite)? \")\n",
        "Y= input(\"souhaitez vous avoir du pepperoni sur votre pizza ? OUI/NON \").strip()\n",
        "if 'Y'== 'OUI' :\n",
        "  prix_Y=3\n",
        "else: prix_Y=0\n",
        "N= input(\"souhaitez vous avoir du fromage sur votre pizza ?OUI/NON \").strip()\n",
        "\n",
        "if 'N'=='OUI' :\n",
        "  prix_N=1\n",
        "else: prix_N= 0\n",
        "\n",
        "\n",
        "total_commande= prix_L + prix_Y + prix_N\n",
        "print(f'sizer: {L}')\n",
        "print(f'add_pepperoni : {Y}')\n",
        "print(f\"extrat_cheese : {N}\")\n",
        "print(f\"votre facture vaut : {total_commande} $\")"
      ],
      "metadata": {
        "id": "VDJQ6OvEpMDv"
      },
      "execution_count": null,
      "outputs": []
    }
  ]
}