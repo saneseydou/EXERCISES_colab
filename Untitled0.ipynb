{
  "nbformat": 4,
  "nbformat_minor": 0,
  "metadata": {
    "colab": {
      "provenance": [],
      "authorship_tag": "ABX9TyNyQ/kIfTFEKE2Y2DkSwT3y",
      "include_colab_link": true
    },
    "kernelspec": {
      "name": "python3",
      "display_name": "Python 3"
    },
    "language_info": {
      "name": "python"
    }
  },
  "cells": [
    {
      "cell_type": "markdown",
      "metadata": {
        "id": "view-in-github",
        "colab_type": "text"
      },
      "source": [
        "<a href=\"https://colab.research.google.com/github/saneseydou/EXERCISES_colab/blob/master/Untitled0.ipynb\" target=\"_parent\"><img src=\"https://colab.research.google.com/assets/colab-badge.svg\" alt=\"Open In Colab\"/></a>"
      ]
    },
    {
      "cell_type": "code",
      "execution_count": null,
      "metadata": {
        "colab": {
          "base_uri": "https://localhost:8080/"
        },
        "id": "5SQHHr0f7s4Q",
        "outputId": "08230f21-64ff-43a4-cb6e-b93bed827177"
      },
      "outputs": [
        {
          "output_type": "stream",
          "name": "stdout",
          "text": [
            "bonjour tout le monde !\n",
            "hello world !\n",
            "hi all! \n"
          ]
        }
      ],
      "source": [
        "print (\"bonjour tout le monde !\")\n",
        "print(\"hello world !\")\n",
        "print(\"hi all! \")\n"
      ]
    },
    {
      "cell_type": "code",
      "source": [
        "print (\"HELLO ALL\\n HI MY LITTLE\\n YOU LOOK SAD\\nWHAT BAD WITH YOU\")\n",
        "\n"
      ],
      "metadata": {
        "colab": {
          "base_uri": "https://localhost:8080/"
        },
        "id": "Sl42P544c4Fm",
        "outputId": "5ec77462-2f87-420c-9b7f-7861b57329a6"
      },
      "execution_count": null,
      "outputs": [
        {
          "output_type": "stream",
          "name": "stdout",
          "text": [
            "HELLO ALL\n",
            " HI MY LITTLE\n",
            " YOU LOOK SAD\n",
            "WHAT BAD WITH YOU\n"
          ]
        }
      ]
    },
    {
      "cell_type": "markdown",
      "source": [
        "NEW CONSOLE"
      ],
      "metadata": {
        "id": "Y95CRSLvc5yE"
      }
    },
    {
      "cell_type": "code",
      "source": [
        "# aX2 + bX + c\n",
        "import math\n",
        "a= int( input (\"valeur de a : \"))\n",
        "b= int (input (\"valeur de b : \"))\n",
        "c= int (input (\"valeur de c : \"))\n",
        "\n",
        "#calcul de Delta\n",
        "\n",
        "Delta =b*b - (4*a*c)\n",
        "print(\"la valeur de Delta est \", Delta)\n",
        "\n",
        "#si Delta est positive, calculons X1 et X2\n",
        "\n",
        "if Delta > 0 :\n",
        "  X1 = (-b - math.sqrt(Delta))/2*a\n",
        "  X2 = (-b + math.sqrt(Delta))/2*a\n",
        "  print(f\"la première solution {X1} , la deuxième solution {X2}\")\n",
        "\n",
        "elif Delta == 0 :\n",
        "  X0 = -b/2*a\n",
        "  print(\"la valeur de X0 est\", X0)\n",
        "\n",
        "else :\n",
        "  print (\"pas de solution\")\n",
        "\n",
        "\n",
        "\n"
      ],
      "metadata": {
        "colab": {
          "base_uri": "https://localhost:8080/"
        },
        "id": "E3bpmlOCQvyw",
        "outputId": "758be8d3-7cad-4830-c379-2a0ed715ee8c"
      },
      "execution_count": null,
      "outputs": [
        {
          "output_type": "stream",
          "name": "stdout",
          "text": [
            "valeur de a : 1\n",
            "valeur de b : 2\n",
            "valeur de c : 1\n",
            "la valeur de Delta est  0\n",
            "la valeur de X0 est -1.0\n"
          ]
        }
      ]
    }
  ]
}